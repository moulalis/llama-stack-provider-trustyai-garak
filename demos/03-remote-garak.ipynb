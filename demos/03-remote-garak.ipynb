{
 "cells": [
  {
   "cell_type": "code",
   "execution_count": 1,
   "id": "81176179",
   "metadata": {},
   "outputs": [],
   "source": [
    "import time\n",
    "from rich.pretty import pprint\n"
   ]
  },
  {
   "cell_type": "code",
   "execution_count": 2,
   "id": "00e098d5",
   "metadata": {},
   "outputs": [],
   "source": [
    "# BASE_URL = \"https://c7d9bcc7e9da.ngrok-free.app\"\n",
    "BASE_URL = \"http://localhost:8321\"\n",
    "def create_http_client():\n",
    "    from llama_stack_client import LlamaStackClient\n",
    "    return LlamaStackClient(base_url=BASE_URL)\n",
    "\n",
    "client = create_http_client()"
   ]
  },
  {
   "cell_type": "code",
   "execution_count": 3,
   "id": "17e937da",
   "metadata": {},
   "outputs": [
    {
     "name": "stderr",
     "output_type": "stream",
     "text": [
      "INFO:httpx:HTTP Request: POST http://localhost:8321/v1/eval/benchmarks \"HTTP/1.1 200 OK\"\n"
     ]
    }
   ],
   "source": [
    "user_defined_probe_benchmark_id = \"custom\"\n",
    "\n",
    "client.benchmarks.register(\n",
    "    benchmark_id=user_defined_probe_benchmark_id,\n",
    "    dataset_id=\"garak\", # placeholder\n",
    "    scoring_functions=[\"garak_scoring\"], # placeholder\n",
    "    provider_benchmark_id=user_defined_probe_benchmark_id,\n",
    "    provider_id=\"trustyai_garak\",\n",
    "    metadata={\n",
    "        \"probes\": [\"latentinjection.LatentJailbreak\"],\n",
    "        \"timeout\": 60*15 # optional\n",
    "    }\n",
    ")"
   ]
  },
  {
   "cell_type": "code",
   "execution_count": 4,
   "id": "3839bfa0",
   "metadata": {},
   "outputs": [
    {
     "name": "stderr",
     "output_type": "stream",
     "text": [
      "INFO:httpx:HTTP Request: POST http://localhost:8321/v1/eval/benchmarks/custom/jobs \"HTTP/1.1 200 OK\"\n"
     ]
    },
    {
     "name": "stdout",
     "output_type": "stream",
     "text": [
      "Starting job 'Job(job_id='garak-job-8df5eb98-804a-4c5f-8162-611ecdd53573', status='scheduled', metadata={'created_at': '2025-08-20T12:48:29+00:00', 'kfp_run_id': '3d9e22a7-da22-4b51-9df5-992b86382744'})'\n"
     ]
    }
   ],
   "source": [
    "job = client.eval.run_eval(\n",
    "    benchmark_id=user_defined_probe_benchmark_id,\n",
    "    benchmark_config={\n",
    "        \"eval_candidate\": {\n",
    "            \"type\": \"model\",\n",
    "            \"model\": \"qwen2\",\n",
    "            \"sampling_params\": {\n",
    "                \"max_tokens\": 100\n",
    "            },\n",
    "        }\n",
    "     },\n",
    ")\n",
    "\n",
    "print(f\"Starting job '{job}'\")"
   ]
  },
  {
   "cell_type": "code",
   "execution_count": 5,
   "id": "82c6adb9",
   "metadata": {},
   "outputs": [
    {
     "name": "stderr",
     "output_type": "stream",
     "text": [
      "INFO:httpx:HTTP Request: GET http://localhost:8321/v1/eval/benchmarks/custom/jobs/garak-job-8df5eb98-804a-4c5f-8162-611ecdd53573 \"HTTP/1.1 200 OK\"\n"
     ]
    },
    {
     "name": "stdout",
     "output_type": "stream",
     "text": [
      "Job(job_id='garak-job-8df5eb98-804a-4c5f-8162-611ecdd53573', status='scheduled', metadata={'created_at': '2025-08-20T12:48:29+00:00', 'kfp_run_id': '3d9e22a7-da22-4b51-9df5-992b86382744'})\n"
     ]
    },
    {
     "name": "stderr",
     "output_type": "stream",
     "text": [
      "INFO:httpx:HTTP Request: GET http://localhost:8321/v1/eval/benchmarks/custom/jobs/garak-job-8df5eb98-804a-4c5f-8162-611ecdd53573 \"HTTP/1.1 200 OK\"\n"
     ]
    },
    {
     "name": "stdout",
     "output_type": "stream",
     "text": [
      "Job(job_id='garak-job-8df5eb98-804a-4c5f-8162-611ecdd53573', status='in_progress', metadata={'created_at': '2025-08-20T12:48:29+00:00', 'kfp_run_id': '3d9e22a7-da22-4b51-9df5-992b86382744'})\n"
     ]
    },
    {
     "name": "stderr",
     "output_type": "stream",
     "text": [
      "INFO:httpx:HTTP Request: GET http://localhost:8321/v1/eval/benchmarks/custom/jobs/garak-job-8df5eb98-804a-4c5f-8162-611ecdd53573 \"HTTP/1.1 200 OK\"\n"
     ]
    },
    {
     "name": "stdout",
     "output_type": "stream",
     "text": [
      "Job(job_id='garak-job-8df5eb98-804a-4c5f-8162-611ecdd53573', status='in_progress', metadata={'created_at': '2025-08-20T12:48:29+00:00', 'kfp_run_id': '3d9e22a7-da22-4b51-9df5-992b86382744'})\n"
     ]
    },
    {
     "name": "stderr",
     "output_type": "stream",
     "text": [
      "INFO:httpx:HTTP Request: GET http://localhost:8321/v1/eval/benchmarks/custom/jobs/garak-job-8df5eb98-804a-4c5f-8162-611ecdd53573 \"HTTP/1.1 200 OK\"\n"
     ]
    },
    {
     "name": "stdout",
     "output_type": "stream",
     "text": [
      "Job(job_id='garak-job-8df5eb98-804a-4c5f-8162-611ecdd53573', status='in_progress', metadata={'created_at': '2025-08-20T12:48:29+00:00', 'kfp_run_id': '3d9e22a7-da22-4b51-9df5-992b86382744'})\n"
     ]
    },
    {
     "name": "stderr",
     "output_type": "stream",
     "text": [
      "INFO:httpx:HTTP Request: GET http://localhost:8321/v1/eval/benchmarks/custom/jobs/garak-job-8df5eb98-804a-4c5f-8162-611ecdd53573 \"HTTP/1.1 200 OK\"\n"
     ]
    },
    {
     "name": "stdout",
     "output_type": "stream",
     "text": [
      "Job(job_id='garak-job-8df5eb98-804a-4c5f-8162-611ecdd53573', status='in_progress', metadata={'created_at': '2025-08-20T12:48:29+00:00', 'kfp_run_id': '3d9e22a7-da22-4b51-9df5-992b86382744'})\n"
     ]
    },
    {
     "name": "stderr",
     "output_type": "stream",
     "text": [
      "INFO:httpx:HTTP Request: GET http://localhost:8321/v1/eval/benchmarks/custom/jobs/garak-job-8df5eb98-804a-4c5f-8162-611ecdd53573 \"HTTP/1.1 200 OK\"\n"
     ]
    },
    {
     "name": "stdout",
     "output_type": "stream",
     "text": [
      "Job(job_id='garak-job-8df5eb98-804a-4c5f-8162-611ecdd53573', status='in_progress', metadata={'created_at': '2025-08-20T12:48:29+00:00', 'kfp_run_id': '3d9e22a7-da22-4b51-9df5-992b86382744'})\n"
     ]
    },
    {
     "name": "stderr",
     "output_type": "stream",
     "text": [
      "INFO:httpx:HTTP Request: GET http://localhost:8321/v1/eval/benchmarks/custom/jobs/garak-job-8df5eb98-804a-4c5f-8162-611ecdd53573 \"HTTP/1.1 200 OK\"\n"
     ]
    },
    {
     "name": "stdout",
     "output_type": "stream",
     "text": [
      "Job(job_id='garak-job-8df5eb98-804a-4c5f-8162-611ecdd53573', status='in_progress', metadata={'created_at': '2025-08-20T12:48:29+00:00', 'kfp_run_id': '3d9e22a7-da22-4b51-9df5-992b86382744'})\n"
     ]
    },
    {
     "name": "stderr",
     "output_type": "stream",
     "text": [
      "INFO:httpx:HTTP Request: GET http://localhost:8321/v1/eval/benchmarks/custom/jobs/garak-job-8df5eb98-804a-4c5f-8162-611ecdd53573 \"HTTP/1.1 200 OK\"\n"
     ]
    },
    {
     "name": "stdout",
     "output_type": "stream",
     "text": [
      "Job(job_id='garak-job-8df5eb98-804a-4c5f-8162-611ecdd53573', status='in_progress', metadata={'created_at': '2025-08-20T12:48:29+00:00', 'kfp_run_id': '3d9e22a7-da22-4b51-9df5-992b86382744'})\n"
     ]
    },
    {
     "name": "stderr",
     "output_type": "stream",
     "text": [
      "INFO:httpx:HTTP Request: GET http://localhost:8321/v1/eval/benchmarks/custom/jobs/garak-job-8df5eb98-804a-4c5f-8162-611ecdd53573 \"HTTP/1.1 200 OK\"\n"
     ]
    },
    {
     "name": "stdout",
     "output_type": "stream",
     "text": [
      "Job(job_id='garak-job-8df5eb98-804a-4c5f-8162-611ecdd53573', status='in_progress', metadata={'created_at': '2025-08-20T12:48:29+00:00', 'kfp_run_id': '3d9e22a7-da22-4b51-9df5-992b86382744'})\n"
     ]
    },
    {
     "name": "stderr",
     "output_type": "stream",
     "text": [
      "INFO:httpx:HTTP Request: GET http://localhost:8321/v1/eval/benchmarks/custom/jobs/garak-job-8df5eb98-804a-4c5f-8162-611ecdd53573 \"HTTP/1.1 200 OK\"\n"
     ]
    },
    {
     "name": "stdout",
     "output_type": "stream",
     "text": [
      "Job(job_id='garak-job-8df5eb98-804a-4c5f-8162-611ecdd53573', status='in_progress', metadata={'created_at': '2025-08-20T12:48:29+00:00', 'kfp_run_id': '3d9e22a7-da22-4b51-9df5-992b86382744'})\n"
     ]
    },
    {
     "name": "stderr",
     "output_type": "stream",
     "text": [
      "INFO:httpx:HTTP Request: GET http://localhost:8321/v1/eval/benchmarks/custom/jobs/garak-job-8df5eb98-804a-4c5f-8162-611ecdd53573 \"HTTP/1.1 200 OK\"\n"
     ]
    },
    {
     "name": "stdout",
     "output_type": "stream",
     "text": [
      "Job(job_id='garak-job-8df5eb98-804a-4c5f-8162-611ecdd53573', status='in_progress', metadata={'created_at': '2025-08-20T12:48:29+00:00', 'kfp_run_id': '3d9e22a7-da22-4b51-9df5-992b86382744'})\n"
     ]
    },
    {
     "name": "stderr",
     "output_type": "stream",
     "text": [
      "INFO:httpx:HTTP Request: GET http://localhost:8321/v1/eval/benchmarks/custom/jobs/garak-job-8df5eb98-804a-4c5f-8162-611ecdd53573 \"HTTP/1.1 200 OK\"\n"
     ]
    },
    {
     "name": "stdout",
     "output_type": "stream",
     "text": [
      "Job(job_id='garak-job-8df5eb98-804a-4c5f-8162-611ecdd53573', status='in_progress', metadata={'created_at': '2025-08-20T12:48:29+00:00', 'kfp_run_id': '3d9e22a7-da22-4b51-9df5-992b86382744'})\n"
     ]
    },
    {
     "name": "stderr",
     "output_type": "stream",
     "text": [
      "INFO:httpx:HTTP Request: GET http://localhost:8321/v1/eval/benchmarks/custom/jobs/garak-job-8df5eb98-804a-4c5f-8162-611ecdd53573 \"HTTP/1.1 200 OK\"\n"
     ]
    },
    {
     "name": "stdout",
     "output_type": "stream",
     "text": [
      "Job(job_id='garak-job-8df5eb98-804a-4c5f-8162-611ecdd53573', status='in_progress', metadata={'created_at': '2025-08-20T12:48:29+00:00', 'kfp_run_id': '3d9e22a7-da22-4b51-9df5-992b86382744'})\n"
     ]
    },
    {
     "name": "stderr",
     "output_type": "stream",
     "text": [
      "INFO:httpx:HTTP Request: GET http://localhost:8321/v1/eval/benchmarks/custom/jobs/garak-job-8df5eb98-804a-4c5f-8162-611ecdd53573 \"HTTP/1.1 200 OK\"\n"
     ]
    },
    {
     "name": "stdout",
     "output_type": "stream",
     "text": [
      "Job(job_id='garak-job-8df5eb98-804a-4c5f-8162-611ecdd53573', status='in_progress', metadata={'created_at': '2025-08-20T12:48:29+00:00', 'kfp_run_id': '3d9e22a7-da22-4b51-9df5-992b86382744'})\n"
     ]
    },
    {
     "name": "stderr",
     "output_type": "stream",
     "text": [
      "INFO:httpx:HTTP Request: GET http://localhost:8321/v1/eval/benchmarks/custom/jobs/garak-job-8df5eb98-804a-4c5f-8162-611ecdd53573 \"HTTP/1.1 200 OK\"\n"
     ]
    },
    {
     "name": "stdout",
     "output_type": "stream",
     "text": [
      "Job(job_id='garak-job-8df5eb98-804a-4c5f-8162-611ecdd53573', status='in_progress', metadata={'created_at': '2025-08-20T12:48:29+00:00', 'kfp_run_id': '3d9e22a7-da22-4b51-9df5-992b86382744'})\n"
     ]
    },
    {
     "name": "stderr",
     "output_type": "stream",
     "text": [
      "INFO:httpx:HTTP Request: GET http://localhost:8321/v1/eval/benchmarks/custom/jobs/garak-job-8df5eb98-804a-4c5f-8162-611ecdd53573 \"HTTP/1.1 200 OK\"\n"
     ]
    },
    {
     "name": "stdout",
     "output_type": "stream",
     "text": [
      "Job(job_id='garak-job-8df5eb98-804a-4c5f-8162-611ecdd53573', status='in_progress', metadata={'created_at': '2025-08-20T12:48:29+00:00', 'kfp_run_id': '3d9e22a7-da22-4b51-9df5-992b86382744'})\n"
     ]
    },
    {
     "name": "stderr",
     "output_type": "stream",
     "text": [
      "INFO:httpx:HTTP Request: GET http://localhost:8321/v1/eval/benchmarks/custom/jobs/garak-job-8df5eb98-804a-4c5f-8162-611ecdd53573 \"HTTP/1.1 200 OK\"\n"
     ]
    },
    {
     "name": "stdout",
     "output_type": "stream",
     "text": [
      "Job(job_id='garak-job-8df5eb98-804a-4c5f-8162-611ecdd53573', status='in_progress', metadata={'created_at': '2025-08-20T12:48:29+00:00', 'kfp_run_id': '3d9e22a7-da22-4b51-9df5-992b86382744'})\n"
     ]
    },
    {
     "name": "stderr",
     "output_type": "stream",
     "text": [
      "INFO:httpx:HTTP Request: GET http://localhost:8321/v1/eval/benchmarks/custom/jobs/garak-job-8df5eb98-804a-4c5f-8162-611ecdd53573 \"HTTP/1.1 200 OK\"\n"
     ]
    },
    {
     "name": "stdout",
     "output_type": "stream",
     "text": [
      "Job(job_id='garak-job-8df5eb98-804a-4c5f-8162-611ecdd53573', status='in_progress', metadata={'created_at': '2025-08-20T12:48:29+00:00', 'kfp_run_id': '3d9e22a7-da22-4b51-9df5-992b86382744'})\n"
     ]
    },
    {
     "name": "stderr",
     "output_type": "stream",
     "text": [
      "INFO:httpx:HTTP Request: GET http://localhost:8321/v1/eval/benchmarks/custom/jobs/garak-job-8df5eb98-804a-4c5f-8162-611ecdd53573 \"HTTP/1.1 200 OK\"\n"
     ]
    },
    {
     "name": "stdout",
     "output_type": "stream",
     "text": [
      "Job(job_id='garak-job-8df5eb98-804a-4c5f-8162-611ecdd53573', status='in_progress', metadata={'created_at': '2025-08-20T12:48:29+00:00', 'kfp_run_id': '3d9e22a7-da22-4b51-9df5-992b86382744'})\n"
     ]
    },
    {
     "name": "stderr",
     "output_type": "stream",
     "text": [
      "INFO:httpx:HTTP Request: GET http://localhost:8321/v1/eval/benchmarks/custom/jobs/garak-job-8df5eb98-804a-4c5f-8162-611ecdd53573 \"HTTP/1.1 200 OK\"\n"
     ]
    },
    {
     "name": "stdout",
     "output_type": "stream",
     "text": [
      "Job(job_id='garak-job-8df5eb98-804a-4c5f-8162-611ecdd53573', status='in_progress', metadata={'created_at': '2025-08-20T12:48:29+00:00', 'kfp_run_id': '3d9e22a7-da22-4b51-9df5-992b86382744'})\n"
     ]
    },
    {
     "name": "stderr",
     "output_type": "stream",
     "text": [
      "INFO:httpx:HTTP Request: GET http://localhost:8321/v1/eval/benchmarks/custom/jobs/garak-job-8df5eb98-804a-4c5f-8162-611ecdd53573 \"HTTP/1.1 200 OK\"\n"
     ]
    },
    {
     "name": "stdout",
     "output_type": "stream",
     "text": [
      "Job(job_id='garak-job-8df5eb98-804a-4c5f-8162-611ecdd53573', status='in_progress', metadata={'created_at': '2025-08-20T12:48:29+00:00', 'kfp_run_id': '3d9e22a7-da22-4b51-9df5-992b86382744'})\n"
     ]
    },
    {
     "name": "stderr",
     "output_type": "stream",
     "text": [
      "INFO:httpx:HTTP Request: GET http://localhost:8321/v1/eval/benchmarks/custom/jobs/garak-job-8df5eb98-804a-4c5f-8162-611ecdd53573 \"HTTP/1.1 200 OK\"\n"
     ]
    },
    {
     "name": "stdout",
     "output_type": "stream",
     "text": [
      "Job(job_id='garak-job-8df5eb98-804a-4c5f-8162-611ecdd53573', status='in_progress', metadata={'created_at': '2025-08-20T12:48:29+00:00', 'kfp_run_id': '3d9e22a7-da22-4b51-9df5-992b86382744'})\n"
     ]
    },
    {
     "name": "stderr",
     "output_type": "stream",
     "text": [
      "INFO:httpx:HTTP Request: GET http://localhost:8321/v1/eval/benchmarks/custom/jobs/garak-job-8df5eb98-804a-4c5f-8162-611ecdd53573 \"HTTP/1.1 200 OK\"\n"
     ]
    },
    {
     "name": "stdout",
     "output_type": "stream",
     "text": [
      "Job(job_id='garak-job-8df5eb98-804a-4c5f-8162-611ecdd53573', status='in_progress', metadata={'created_at': '2025-08-20T12:48:29+00:00', 'kfp_run_id': '3d9e22a7-da22-4b51-9df5-992b86382744'})\n"
     ]
    },
    {
     "name": "stderr",
     "output_type": "stream",
     "text": [
      "INFO:httpx:HTTP Request: GET http://localhost:8321/v1/eval/benchmarks/custom/jobs/garak-job-8df5eb98-804a-4c5f-8162-611ecdd53573 \"HTTP/1.1 200 OK\"\n"
     ]
    },
    {
     "name": "stdout",
     "output_type": "stream",
     "text": [
      "Job(job_id='garak-job-8df5eb98-804a-4c5f-8162-611ecdd53573', status='in_progress', metadata={'created_at': '2025-08-20T12:48:29+00:00', 'kfp_run_id': '3d9e22a7-da22-4b51-9df5-992b86382744'})\n"
     ]
    },
    {
     "name": "stderr",
     "output_type": "stream",
     "text": [
      "INFO:httpx:HTTP Request: GET http://localhost:8321/v1/eval/benchmarks/custom/jobs/garak-job-8df5eb98-804a-4c5f-8162-611ecdd53573 \"HTTP/1.1 200 OK\"\n"
     ]
    },
    {
     "name": "stdout",
     "output_type": "stream",
     "text": [
      "Job(job_id='garak-job-8df5eb98-804a-4c5f-8162-611ecdd53573', status='completed', metadata={'created_at': '2025-08-20T12:48:29+00:00', 'kfp_run_id': '3d9e22a7-da22-4b51-9df5-992b86382744', 'finished_at': '2025-08-20T12:56:12+00:00', 'scan.log': 'file-a64e5280fec849d39be051ba6cece204', 'scan.report.jsonl': 'file-8f679a84b0b340cca7af2f0ebe9c85fb', 'scan.hitlog.jsonl': 'file-bd39153c7c134b5ea29c42f51c02d4d9', 'scan.report.html': 'file-8fa3254f53a7492a98d9bb5b97ab469b'})\n",
      "====================================================================================================\n",
      "Job ended with status: completed\n"
     ]
    }
   ],
   "source": [
    "def get_job_status(job_id, benchmark_id):\n",
    "    return client.eval.jobs.status(job_id=job_id, benchmark_id=benchmark_id)\n",
    "\n",
    "while True:\n",
    "    job = get_job_status(job_id=job.job_id, benchmark_id=user_defined_probe_benchmark_id)\n",
    "    print(job)\n",
    "\n",
    "    if job.status in ['failed', 'completed', 'cancelled']:\n",
    "        print(\"=\"*100)\n",
    "        print(f\"Job ended with status: {job.status}\")\n",
    "        break\n",
    "\n",
    "    time.sleep(20)"
   ]
  },
  {
   "cell_type": "code",
   "execution_count": 6,
   "id": "8d9b3c79",
   "metadata": {},
   "outputs": [
    {
     "name": "stderr",
     "output_type": "stream",
     "text": [
      "INFO:httpx:HTTP Request: GET http://localhost:8321/v1/eval/benchmarks/custom/jobs/garak-job-8df5eb98-804a-4c5f-8162-611ecdd53573/result \"HTTP/1.1 200 OK\"\n"
     ]
    }
   ],
   "source": [
    "job_result = client.eval.jobs.retrieve(job_id=job.job_id, benchmark_id=user_defined_probe_benchmark_id)\n",
    "scores = job_result.scores"
   ]
  },
  {
   "cell_type": "code",
   "execution_count": 7,
   "id": "52028584",
   "metadata": {},
   "outputs": [
    {
     "data": {
      "text/html": [
       "<pre style=\"white-space:pre;overflow-x:auto;line-height:normal;font-family:Menlo,'DejaVu Sans Mono',consolas,'Courier New',monospace\"><span style=\"font-weight: bold\">{</span>\n",
       "<span style=\"color: #7fbf7f; text-decoration-color: #7fbf7f\">│   </span><span style=\"color: #008000; text-decoration-color: #008000\">'latentinjection.LatentJailbreak'</span>: <span style=\"font-weight: bold\">{</span>\n",
       "<span style=\"color: #7fbf7f; text-decoration-color: #7fbf7f\">│   │   </span><span style=\"color: #008000; text-decoration-color: #008000\">'unsafe_content.ToxicCommentModel_mean'</span>: <span style=\"color: #008080; text-decoration-color: #008080; font-weight: bold\">0.042</span>,\n",
       "<span style=\"color: #7fbf7f; text-decoration-color: #7fbf7f\">│   │   </span><span style=\"color: #008000; text-decoration-color: #008000\">'base.TriggerListDetector_mean'</span>: <span style=\"color: #008080; text-decoration-color: #008080; font-weight: bold\">0.227</span>\n",
       "<span style=\"color: #7fbf7f; text-decoration-color: #7fbf7f\">│   </span><span style=\"font-weight: bold\">}</span>\n",
       "<span style=\"font-weight: bold\">}</span>\n",
       "</pre>\n"
      ],
      "text/plain": [
       "\u001b[1m{\u001b[0m\n",
       "\u001b[2;32m│   \u001b[0m\u001b[32m'latentinjection.LatentJailbreak'\u001b[0m: \u001b[1m{\u001b[0m\n",
       "\u001b[2;32m│   │   \u001b[0m\u001b[32m'unsafe_content.ToxicCommentModel_mean'\u001b[0m: \u001b[1;36m0.042\u001b[0m,\n",
       "\u001b[2;32m│   │   \u001b[0m\u001b[32m'base.TriggerListDetector_mean'\u001b[0m: \u001b[1;36m0.227\u001b[0m\n",
       "\u001b[2;32m│   \u001b[0m\u001b[1m}\u001b[0m\n",
       "\u001b[1m}\u001b[0m\n"
      ]
     },
     "metadata": {},
     "output_type": "display_data"
    }
   ],
   "source": [
    "aggregated_scores = {k: v.aggregated_results for k, v in scores.items()}\n",
    "pprint(aggregated_scores)"
   ]
  },
  {
   "cell_type": "code",
   "execution_count": 8,
   "id": "c7021114",
   "metadata": {},
   "outputs": [
    {
     "data": {
      "text/plain": [
       "{'created_at': '2025-08-20T12:48:29+00:00',\n",
       " 'kfp_run_id': '3d9e22a7-da22-4b51-9df5-992b86382744',\n",
       " 'finished_at': '2025-08-20T12:56:12+00:00',\n",
       " 'scan.log': 'file-a64e5280fec849d39be051ba6cece204',\n",
       " 'scan.report.jsonl': 'file-8f679a84b0b340cca7af2f0ebe9c85fb',\n",
       " 'scan.hitlog.jsonl': 'file-bd39153c7c134b5ea29c42f51c02d4d9',\n",
       " 'scan.report.html': 'file-8fa3254f53a7492a98d9bb5b97ab469b'}"
      ]
     },
     "execution_count": 8,
     "metadata": {},
     "output_type": "execute_result"
    }
   ],
   "source": [
    "job.metadata"
   ]
  },
  {
   "cell_type": "code",
   "execution_count": 13,
   "id": "4ef45c74",
   "metadata": {},
   "outputs": [
    {
     "name": "stderr",
     "output_type": "stream",
     "text": [
      "INFO:httpx:HTTP Request: GET http://localhost:8321/v1/openai/v1/files/file-a64e5280fec849d39be051ba6cece204 \"HTTP/1.1 200 OK\"\n"
     ]
    },
    {
     "data": {
      "text/plain": [
       "File(id='file-a64e5280fec849d39be051ba6cece204', bytes=3347399, created_at=1755694561, expires_at=1787230561, filename='scan.log', object='file', purpose='assistants')"
      ]
     },
     "execution_count": 13,
     "metadata": {},
     "output_type": "execute_result"
    }
   ],
   "source": [
    "client.files.retrieve(job.metadata['scan.log'])"
   ]
  },
  {
   "cell_type": "code",
   "execution_count": null,
   "id": "26866f61",
   "metadata": {},
   "outputs": [
    {
     "name": "stderr",
     "output_type": "stream",
     "text": [
      "INFO:httpx:HTTP Request: GET http://localhost:8321/v1/openai/v1/files/file-a64e5280fec849d39be051ba6cece204/content \"HTTP/1.1 200 OK\"\n"
     ]
    },
    {
     "data": {
      "text/plain": [
       "['2025-08-20 12:55:47,300  DEBUG  HTTP Response: POST https://c7d9bcc7e9da.ngrok-free.app/v1/openai/v1/chat/completions \"200 OK\" Headers({\\'content-length\\': \\'687\\', \\'content-type\\': \\'application/json\\', \\'date\\': \\'Wed, 20 Aug 2025 12:55:45 GMT\\', \\'ngrok-agent-ips\\': \\'2601:19b:780:78f0:2821:d8fe:45a6:b3d5\\', \\'server\\': \\'uvicorn\\', \\'x-trace-id\\': \\'6eec898588769495201acd9e5ef76df1\\'})',\n",
       " '2025-08-20 12:55:47,300  DEBUG  request_id: None',\n",
       " '2025-08-20 12:55:47,332  DEBUG  probe return: <garak.probes.latentinjection.LatentJailbreak object at 0x7f3c640894f0> with 256 attempts',\n",
       " '2025-08-20 12:55:47,332  DEBUG  harness: run detector garak.detectors.unsafe_content.ToxicCommentModel',\n",
       " '2025-08-20 12:55:58,568  DEBUG  harness: run detector garak.detectors.base.TriggerListDetector',\n",
       " '2025-08-20 12:55:58,577  INFO  hit log in /opt/app-root/scan_files/scan.hitlog.jsonl',\n",
       " '2025-08-20 12:55:58,581  DEBUG  harness: probe list iteration completed',\n",
       " '2025-08-20 12:55:58,582  INFO  run complete, ending',\n",
       " '2025-08-20 12:55:58,617  INFO  garak run complete in 375.55s',\n",
       " '']"
      ]
     },
     "execution_count": 18,
     "metadata": {},
     "output_type": "execute_result"
    }
   ],
   "source": [
    "# last 10 lines of scan.log\n",
    "client.files.content(job.metadata['scan.log']).split('\\n')[-10:]"
   ]
  }
 ],
 "metadata": {
  "kernelspec": {
   "display_name": "llama-stack-garak",
   "language": "python",
   "name": "python3"
  },
  "language_info": {
   "codemirror_mode": {
    "name": "ipython",
    "version": 3
   },
   "file_extension": ".py",
   "mimetype": "text/x-python",
   "name": "python",
   "nbconvert_exporter": "python",
   "pygments_lexer": "ipython3",
   "version": "3.12.9"
  }
 },
 "nbformat": 4,
 "nbformat_minor": 5
}
